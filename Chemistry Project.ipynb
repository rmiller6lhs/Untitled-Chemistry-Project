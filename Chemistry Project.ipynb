{
 "cells": [
  {
   "cell_type": "markdown",
   "id": "74dc9f39",
   "metadata": {},
   "source": [
    "1. Take User Input as string\n",
    "\n",
    "2. Preprocess User Input:\n",
    "    a. Check if there are lower case letters and/or numbers set formula_has_(lower/num) true or false.\n",
    "    b. Check if formula has parenthesis - Create dictionary of substrings to remove parenthesis.\n",
    "\n",
    "Want to create a function called iterater that will iterate through the dictionary from the input preprocesser and parse each string to find number of elements."
   ]
  },
  {
   "cell_type": "code",
   "execution_count": 360,
   "id": "cd093f62",
   "metadata": {},
   "outputs": [],
   "source": [
    "import re\n",
    "class Chem:\n",
    "    def __init__(self,formula):\n",
    "        self.formula = formula\n",
    "        self.input_preprocesser()\n",
    "        if self.formula_metadata['has_parens'] == True:\n",
    "            self.input_iterator()\n",
    "        else:\n",
    "            self.element_parser()\n",
    "        \n",
    "    def input_preprocesser(self):\n",
    "        \n",
    "#Check for lower case letters\n",
    "        if re.search(r\"[a-z]\",self.formula):\n",
    "            formula_has_lower = True\n",
    "        else:\n",
    "            formula_has_lower = False\n",
    "            \n",
    "#Check for numbers   \n",
    "        if re.search(r\"[0-9]\",self.formula):\n",
    "            formula_has_num = True\n",
    "        else:\n",
    "            formula_has_num = False\n",
    "        \n",
    "#Check for parenthesis\n",
    "        if re.search(r'\\(',self.formula):\n",
    "            formula_has_parens = True\n",
    "            inside_parens = re.findall(r\"\\((.*?)\\)\",self.formula)\n",
    "            between_parens = re.findall(r\"\\)(.*?)\\(\",self.formula)\n",
    "            before_parens = re.search(r\"(.*?)\\(\", self.formula).group(0)[:-1]\n",
    "            after_parens = re.findall(r\"\\)(\\w+)\",self.formula)\n",
    "            \n",
    "            try:\n",
    "                inside_parens = [(j,int(after_parens[i])) for i,j in enumerate(inside_parens)]\n",
    "            except:\n",
    "                raise InputError('Polyatomic ions or functional groups should only be enclosed in a parenthesis if there are more than 1 of them in your input compound.')\n",
    "                \n",
    "        else:\n",
    "            formula_has_parens = False\n",
    "            \n",
    "#Generate metadata about formula  \n",
    "        self.formula_metadata = {\n",
    "            'has_parens':formula_has_parens,\n",
    "            'has_num':formula_has_num,\n",
    "            'has_lower':formula_has_lower,\n",
    "        }\n",
    "        \n",
    "        self.formula_preprocessed = {\n",
    "                'inside_parens':inside_parens,\n",
    "                'between_parens':between_parens,\n",
    "                'before_parens':before_parens,\n",
    "            }\n",
    "        \n",
    "    def input_iterator(self):\n",
    "        if self.formula_metadata['has_parens'] == True:\n",
    "            for key,value in self.formula_preprocessed.items():\n",
    "                if type(value) == list:\n",
    "                    for string in value:\n",
    "                        self.element_parser(key,string)\n",
    "                else:\n",
    "                    self.element_parser(key,value)\n",
    "        \n",
    "            \n",
    "            \n",
    "    def element_parser(self,key=None,value=None):\n",
    "        '''Needs finished Finds all elements and puts them in a dictionary'''\n",
    "        print(value)\n",
    "        if key == 'inside_parens':\n",
    "            multiplier = value[1]\n",
    "            #Find lower case letters, split string into elements, then use multiplier to count number of each element.\n",
    "            val = value[0]\n",
    "            \n",
    "                    \n",
    "        elif key == 'before_parens':\n",
    "            multiplier = 1\n",
    "            val = value\n",
    "            \n",
    "        \n",
    "        lowers_idxs = [val.index(i) for i in val if i.islower()]\n",
    "        elements_with_lowers = [[val[i-1]+j,val.index(val[i-1]+j),0] for i,j in enumerate(val) if j.islower()]\n",
    "        elements_without_lowers = [[j,val.index(j),0] for i,j in enumerate(val) if i+1 not in lowers_idxs and j.isupper()]\n",
    "        all_elements = elements_with_lowers + elements_without_lowers\n",
    "        for idx,element in enumerate(all_elements):\n",
    "            if val[element[1]+1].isnumeric():\n",
    "                all_elements[idx][2]+= int(val[element[1]+1])*multiplier\n",
    "            else:\n",
    "                all_elements[idx][2] += multiplier\n",
    "        print(all_elements)    \n",
    "\n",
    "        \n",
    "            \n",
    "                \n",
    "            \n",
    "\n",
    "\n",
    "            \n",
    "\n",
    "            \n",
    "            \n",
    "        \n",
    "        "
   ]
  },
  {
   "cell_type": "code",
   "execution_count": 361,
   "id": "a5dec8a0",
   "metadata": {},
   "outputs": [
    {
     "name": "stdout",
     "output_type": "stream",
     "text": [
      "('SeO4', 3)\n",
      "[['Se', 0, 3], ['O', 2, 12]]\n",
      "Fe2\n",
      "[['Fe', 0, 1]]\n"
     ]
    },
    {
     "data": {
      "text/plain": [
       "<__main__.Chem at 0x1dbc66c5b50>"
      ]
     },
     "execution_count": 361,
     "metadata": {},
     "output_type": "execute_result"
    }
   ],
   "source": [
    "Chem('Fe2(SeO4)3')"
   ]
  },
  {
   "cell_type": "code",
   "execution_count": null,
   "id": "f791f8b5",
   "metadata": {},
   "outputs": [],
   "source": []
  },
  {
   "cell_type": "code",
   "execution_count": null,
   "id": "3f3e2c45",
   "metadata": {},
   "outputs": [],
   "source": []
  }
 ],
 "metadata": {
  "kernelspec": {
   "display_name": "Python 3 (ipykernel)",
   "language": "python",
   "name": "python3"
  },
  "language_info": {
   "codemirror_mode": {
    "name": "ipython",
    "version": 3
   },
   "file_extension": ".py",
   "mimetype": "text/x-python",
   "name": "python",
   "nbconvert_exporter": "python",
   "pygments_lexer": "ipython3",
   "version": "3.8.18"
  }
 },
 "nbformat": 4,
 "nbformat_minor": 5
}
